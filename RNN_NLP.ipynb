{
  "nbformat": 4,
  "nbformat_minor": 0,
  "metadata": {
    "colab": {
      "name": "RNN-NLP.ipynb",
      "provenance": []
    },
    "kernelspec": {
      "name": "python3",
      "display_name": "Python 3"
    }
  },
  "cells": [
    {
      "cell_type": "markdown",
      "metadata": {
        "id": "aRBJKCOJYngL"
      },
      "source": [
        "# NLP : Classify names with RNN"
      ]
    },
    {
      "cell_type": "code",
      "metadata": {
        "id": "P2MhfbrgRVqY"
      },
      "source": [
        "import torch\r\n",
        "import torch.nn as nn\r\n",
        "import torch.optim as optim \r\n",
        "import numpy as np\r\n",
        "import glob\r\n",
        "import string\r\n",
        "import random\r\n",
        "\r\n",
        "from matplotlib import pyplot as plt\r\n",
        "from matplotlib.pyplot import figure, imshow, axis\r\n"
      ],
      "execution_count": null,
      "outputs": []
    },
    {
      "cell_type": "code",
      "metadata": {
        "id": "VLk85anpT4Fs"
      },
      "source": [
        "valid_letters = string.ascii_letters + \" ',.;\"\r\n",
        "num_letters = len(valid_letters)\r\n",
        "batch_size = 5\r\n",
        "\r\n",
        "import unicodedata\r\n",
        "def unicode_to_ascii(name):\r\n",
        "    return ''.join(\r\n",
        "        c for c in unicodedata.normalize('NFD', name)\r\n",
        "        if unicodedata.category(c) != 'Mn'\r\n",
        "        and c in valid_letters\r\n",
        "    )  \r\n",
        "\r\n",
        "'''\r\n",
        "  Load data file. Each file contains the list of unique names. \r\n",
        "  Returns a list of labels and a dictionary pointing names \r\n",
        "  e.g. 'Korean'-> 'Park','Choi' , ... etc\r\n",
        "'''\r\n",
        "def load_data():\r\n",
        "  name_label = []\r\n",
        "  name_data = {}\r\n",
        "  filenames = glob.glob('*.txt')\r\n",
        "\r\n",
        "  for file in filenames:\r\n",
        "    label = file.split('.txt')[0]\r\n",
        "    name_label.append(label) \r\n",
        "    text_data = open(file,encoding='utf-8').read().strip().split('\\n')\r\n",
        "    name_data[label] = [unicode_to_ascii(name) for name in text_data]\r\n",
        "  return name_label, name_data\r\n",
        "  "
      ],
      "execution_count": null,
      "outputs": []
    },
    {
      "cell_type": "code",
      "metadata": {
        "id": "Nm9VtjfoWgwo"
      },
      "source": [
        "def word_to_onehot(X): \r\n",
        "  fe = torch.zeros(len(X),1, num_letters)\r\n",
        "  for idx,c in enumerate(X):\r\n",
        "    fe[idx][0][valid_letters.find(c)] = 1\r\n",
        "  return fe"
      ],
      "execution_count": null,
      "outputs": []
    },
    {
      "cell_type": "code",
      "metadata": {
        "colab": {
          "base_uri": "https://localhost:8080/"
        },
        "id": "XpSL--FDXvnW",
        "outputId": "04494c2a-0d24-4b78-92f1-ff3a11060d6f"
      },
      "source": [
        "feature = word_to_onehot('Jane')\r\n",
        "print(feature)\r\n",
        "print(feature.shape)"
      ],
      "execution_count": null,
      "outputs": [
        {
          "output_type": "stream",
          "text": [
            "tensor([[[0., 0., 0., 0., 0., 0., 0., 0., 0., 0., 0., 0., 0., 0., 0., 0., 0.,\n",
            "          0., 0., 0., 0., 0., 0., 0., 0., 0., 0., 0., 0., 0., 0., 0., 0., 0.,\n",
            "          0., 1., 0., 0., 0., 0., 0., 0., 0., 0., 0., 0., 0., 0., 0., 0., 0.,\n",
            "          0., 0., 0., 0., 0., 0.]],\n",
            "\n",
            "        [[1., 0., 0., 0., 0., 0., 0., 0., 0., 0., 0., 0., 0., 0., 0., 0., 0.,\n",
            "          0., 0., 0., 0., 0., 0., 0., 0., 0., 0., 0., 0., 0., 0., 0., 0., 0.,\n",
            "          0., 0., 0., 0., 0., 0., 0., 0., 0., 0., 0., 0., 0., 0., 0., 0., 0.,\n",
            "          0., 0., 0., 0., 0., 0.]],\n",
            "\n",
            "        [[0., 0., 0., 0., 0., 0., 0., 0., 0., 0., 0., 0., 0., 1., 0., 0., 0.,\n",
            "          0., 0., 0., 0., 0., 0., 0., 0., 0., 0., 0., 0., 0., 0., 0., 0., 0.,\n",
            "          0., 0., 0., 0., 0., 0., 0., 0., 0., 0., 0., 0., 0., 0., 0., 0., 0.,\n",
            "          0., 0., 0., 0., 0., 0.]],\n",
            "\n",
            "        [[0., 0., 0., 0., 1., 0., 0., 0., 0., 0., 0., 0., 0., 0., 0., 0., 0.,\n",
            "          0., 0., 0., 0., 0., 0., 0., 0., 0., 0., 0., 0., 0., 0., 0., 0., 0.,\n",
            "          0., 0., 0., 0., 0., 0., 0., 0., 0., 0., 0., 0., 0., 0., 0., 0., 0.,\n",
            "          0., 0., 0., 0., 0., 0.]]])\n",
            "torch.Size([4, 1, 57])\n"
          ],
          "name": "stdout"
        }
      ]
    },
    {
      "cell_type": "markdown",
      "metadata": {
        "id": "RqDl4NGEoydb"
      },
      "source": [
        "# Define Recurrent Nerual Network - sentiment classfication"
      ]
    },
    {
      "cell_type": "code",
      "metadata": {
        "id": "NRGF0tMQgyVS"
      },
      "source": [
        "class RNN(nn.Module):\r\n",
        "  def __init__(self, input_dim, hidden_dim, output_dim):\r\n",
        "    super(RNN,self).__init__()\r\n",
        "\r\n",
        "    self.i2o = nn.Linear(input_dim + hidden_dim, output_dim)\r\n",
        "    self.i2h = nn.Linear(input_dim + hidden_dim, hidden_dim)\r\n",
        "    self.tan = nn.LogSoftmax(dim=1)\r\n",
        "\r\n",
        "  def forward(self, X, last_hidden):\r\n",
        "    input = torch.cat((X,last_hidden),dim = 1)\r\n",
        "    out = self.i2o(input)\r\n",
        "    out = self.tan(out)\r\n",
        "    hidden = self.i2h(input)\r\n",
        "    return hidden, out\r\n"
      ],
      "execution_count": null,
      "outputs": []
    },
    {
      "cell_type": "code",
      "metadata": {
        "id": "dkxCFJOpjdIs"
      },
      "source": [
        "def train(name_label,name_data):\r\n",
        "  \r\n",
        "  learning_rate = 0.0092\r\n",
        "  avg_loss = []\r\n",
        "  loss_item = []\r\n",
        "  train_loss =0\r\n",
        "  rnn = RNN(num_letters,128, len(name_label))\r\n",
        "  loss_func = nn.NLLLoss()\r\n",
        "  optimizer = torch.optim.SGD(rnn.parameters(), lr = learning_rate)\r\n",
        "  \r\n",
        "  for i in range(0, 40000,1):\r\n",
        "    if i > 0 and i % 20 == 0:\r\n",
        "      avg_loss.append(train_loss/20)\r\n",
        "      train_loss = 0\r\n",
        "    \r\n",
        "    hidden = torch.zeros(1,128)\r\n",
        "    optimizer.zero_grad()\r\n",
        "    train_label = random.choice(name_label)\r\n",
        "    train_name = random.choice(name_data[train_label])\r\n",
        "    tensor_name = word_to_onehot(train_name)\r\n",
        "    label = torch.tensor([name_label.index(train_label)],dtype=torch.long)\r\n",
        "\r\n",
        "    for idx in range(0,tensor_name.shape[0],1):\r\n",
        "      hidden, output = rnn(tensor_name[idx],hidden)\r\n",
        "\r\n",
        "    loss = loss_func(output,label)\r\n",
        "    train_loss += loss\r\n",
        "    loss.backward()\r\n",
        "    optimizer.step()\r\n",
        "  return rnn,avg_loss"
      ],
      "execution_count": null,
      "outputs": []
    },
    {
      "cell_type": "code",
      "metadata": {
        "id": "XUKj-Glrvm_W"
      },
      "source": [
        "torch.tensor()"
      ],
      "execution_count": null,
      "outputs": []
    },
    {
      "cell_type": "code",
      "metadata": {
        "id": "rsSXRcRQ6RJu"
      },
      "source": [
        "def evaluate(rnn,name_label,name_data):\r\n",
        "  correct = 0\r\n",
        "  item = []\r\n",
        "  for i in range(0, 10000,1):\r\n",
        "    hidden = torch.zeros(1,128)\r\n",
        "    train_label = random.choice(name_label)\r\n",
        "    train_name = random.choice(name_data[train_label])\r\n",
        "    tensor_name = word_to_onehot(train_name)\r\n",
        "    label = torch.tensor([name_label.index(train_label)],dtype=torch.long)\r\n",
        "\r\n",
        "    for idx in range(0,tensor_name.shape[0],1):\r\n",
        "      hidden, output = rnn(tensor_name[idx],hidden)\r\n",
        "    \r\n",
        "    prediction = torch.argmax(output.data)\r\n",
        "    if prediction == name_label.index(train_label):\r\n",
        "      correct += 1\r\n",
        "    item.append([train_name, train_label, name_label[prediction]])\r\n",
        "  return correct / 10000, item"
      ],
      "execution_count": null,
      "outputs": []
    },
    {
      "cell_type": "code",
      "metadata": {
        "id": "D5APhGJqBRut"
      },
      "source": [
        "def eval_name(rnn,name):\r\n",
        "  hidden = torch.zeros(1,128)\r\n",
        "  tensor_name = word_to_onehot(name)\r\n",
        "\r\n",
        "  for idx in range(0,tensor_name.shape[0],1):\r\n",
        "    hidden, output = rnn(tensor_name[idx],hidden)\r\n",
        "    \r\n",
        "    prediction = torch.argmax(output.data)\r\n",
        "  return prediction, rnn"
      ],
      "execution_count": null,
      "outputs": []
    },
    {
      "cell_type": "code",
      "metadata": {
        "colab": {
          "base_uri": "https://localhost:8080/",
          "height": 465
        },
        "id": "6_U00ak2Uanc",
        "outputId": "20291068-ed31-4ce3-d724-15177c7c8c82"
      },
      "source": [
        "if __name__ ==  \"__main__\":\r\n",
        "  hidden_dim = 128\r\n",
        "  name_label, name_data = load_data()\r\n",
        "  rnn, avg_loss = train(name_label,name_data)\r\n",
        "  \r\n",
        "  # evaluate model on validation data\r\n",
        "  accuracy,item = evaluate(rnn,name_label,name_data)  \r\n",
        "  print(\"Test accuracy: {}\".format(accuracy))\r\n",
        "  \r\n",
        "  for name, label, predict in item[:9]:\r\n",
        "    print(name,'/', label,' was predicted as ', predict )\r\n",
        "  # plot losses\r\n",
        "  plt.plot(avg_loss)\r\n",
        "  plt.legend([\"training_loss\",\"validation_loss\"])\r\n",
        "  plt.xlabel(\"Iteration\")\r\n",
        "  plt.ylabel(\"Loss\")\r\n",
        "  plt.title(\"Loss plot\")\r\n",
        "  plt.show()"
      ],
      "execution_count": null,
      "outputs": [
        {
          "output_type": "stream",
          "text": [
            "Test accuracy: 0.5362\n",
            "Langlais / French  was predicted as  Greek\n",
            "Doherty / Irish  was predicted as  Irish\n",
            "Lim  / Korean  was predicted as  Japanese\n",
            "Nakamura / Japanese  was predicted as  Japanese\n",
            "Kreisinger / Czech  was predicted as  German\n",
            "Choi / Korean  was predicted as  Korean\n",
            "Mclean / Scottish  was predicted as  Scottish\n",
            "Nezametdinov / Russian  was predicted as  Russian\n",
            "Choshi / Japanese  was predicted as  Japanese\n"
          ],
          "name": "stdout"
        },
        {
          "output_type": "display_data",
          "data": {
            "image/png": "[encoded data removed]",
            "text/plain": [
              "<Figure size 432x288 with 1 Axes>"
            ]
          },
          "metadata": {
            "tags": [],
            "needs_background": "light"
          }
        }
      ]
    },
    {
      "cell_type": "code",
      "metadata": {
        "colab": {
          "base_uri": "https://localhost:8080/"
        },
        "id": "CKxrgqt0CANt",
        "outputId": "aa9164bc-e6fc-4146-8bf8-744f864e4f9d"
      },
      "source": [
        "  test_name = [\"Choi\",\"Min\",\"Hwang\", \"Choo\", \"Son\",\"Han\",\"Sam\", \"Matt\", \"Paul\", \"Newton\", \"Muhamad\", \"Albert\", \"Alberto\", \"Marco\"]\r\n",
        "  for test in test_name:\r\n",
        "    result,rnn = eval_name(rnn, test)\r\n",
        "    print(test, \" was predicted as \", name_label[result])"
      ],
      "execution_count": null,
      "outputs": [
        {
          "output_type": "stream",
          "text": [
            "Choi  was predicted as  Korean\n",
            "Min  was predicted as  Chinese\n",
            "Hwang  was predicted as  Korean\n",
            "Choo  was predicted as  Korean\n",
            "Son  was predicted as  Korean\n",
            "Han  was predicted as  Chinese\n",
            "Sam  was predicted as  Korean\n",
            "Matt  was predicted as  German\n",
            "Paul  was predicted as  Vietnamese\n",
            "Newton  was predicted as  Scottish\n",
            "Muhamad  was predicted as  Arabic\n",
            "Albert  was predicted as  French\n",
            "Alberto  was predicted as  Portuguese\n",
            "Marco  was predicted as  Portuguese\n"
          ],
          "name": "stdout"
        }
      ]
    }
  ]
}